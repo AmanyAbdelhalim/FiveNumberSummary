{
 "cells": [
  {
   "cell_type": "code",
   "execution_count": 2,
   "metadata": {},
   "outputs": [],
   "source": [
    "import matplotlib.pyplot as plt\n",
    "import numpy as np\n",
    "\n",
    "\n",
    "def outlierDetection(Q1,Q3,list_of_numbers):\n",
    "    #this function takes a list of numbers and prints out those numbers that are considered outliers\n",
    "    IQR= float(Q3-Q1)\n",
    "    print \"IQR= \",IQR\n",
    "    lowerthreshold=Q1-(IQR*1.5)\n",
    "    print \"Lowerthreshold= \",lowerthreshold\n",
    "    upperthreshold=Q3+(IQR*1.5)\n",
    "    print \"Upperthreshold= \",upperthreshold\n",
    "    for i in list_of_numbers:\n",
    "        lowflag=0\n",
    "        highflag=0\n",
    "        if (i <lowerthreshold):\n",
    "            lowflag=1\n",
    "        if (i>upperthreshold):\n",
    "            highflag=1\n",
    "        if (lowflag):\n",
    "            print i , \"is an outlier because it is lower than than the lowerthreshold\"\n",
    "        if (highflag):\n",
    "            print i , \"is an outlier because it is higher than than the upperthreshold\""
   ]
  },
  {
   "cell_type": "code",
   "execution_count": 3,
   "metadata": {},
   "outputs": [
    {
     "name": "stdout",
     "output_type": "stream",
     "text": [
      "The observations after sorting:  [53, 79, 80, 82, 87, 91, 93, 98] \n",
      "\n",
      "Number of observations =   8 \n",
      "\n",
      "Five Number Summary  53 79.75 84.5 91.5 98 \n",
      "\n",
      "IQR=  11.75\n",
      "Lowerthreshold=  62.125\n",
      "Upperthreshold=  109.125\n",
      "53 is an outlier because it is lower than than the lowerthreshold\n"
     ]
    }
   ],
   "source": [
    "# different lists\n",
    "list_of_numbers=[53,79,80,82,87,91,93,98]\n",
    "#list_of_numbers=[53,79,80,82,87,91,93,98,57,79,99,66]\n",
    "#list_of_numbers=[1,1,4,4,9,11]\n",
    "\n",
    "#the numbers need to be sorted first\n",
    "list_of_numbers.sort()\n",
    "print \"The observations after sorting: \", list_of_numbers,'\\n'\n",
    "\n",
    "\n",
    "# printing the number of observations\n",
    "print  \"Number of observations =  \",len(list_of_numbers),'\\n'\n",
    "\n",
    "# getting the minimum number of the list\n",
    "Min=list_of_numbers[0]\n",
    "\n",
    "#getting the maximum number of the list\n",
    "Max=list_of_numbers[-1]\n",
    "\n",
    "# getting the Q2 of the list\n",
    "median = np.median(list_of_numbers)\n",
    "# getting the Q3 of the list\n",
    "upper_quartile = np.percentile(list_of_numbers, 75)\n",
    "# getting the Q1 of the list\n",
    "lower_quartile = np.percentile(list_of_numbers, 25)\n",
    "\n",
    "# printing the five number summary\n",
    "print \"Five Number Summary \",Min, lower_quartile, median, upper_quartile, Max,'\\n'\n",
    "\n",
    "# getting the outliers\n",
    "outlierDetection(lower_quartile, upper_quartile,list_of_numbers)\n"
   ]
  },
  {
   "cell_type": "code",
   "execution_count": 4,
   "metadata": {},
   "outputs": [
    {
     "data": {
      "image/png": "[encoded data removed]",
      "text/plain": [
       "<matplotlib.figure.Figure at 0x1092a0850>"
      ]
     },
     "metadata": {},
     "output_type": "display_data"
    }
   ],
   "source": [
    "# plotting the BOXPLOT verticaly with outliers as  diamond shape\n",
    "plt.figure()\n",
    "#plt.boxplot(list_of_numbers, 0, 'gD',0.50)\n",
    "# plotting the BOXPLOT horizontal\n",
    "plt.boxplot(list_of_numbers, 0, 'rs',0)\n",
    "'''\n",
    "# plotting the BOXPLOT with an outliers as a +\n",
    "plt.boxplot(list_of_numbers)\n",
    "# don't show outlier points\n",
    "plt.figure()\n",
    "plt.boxplot(list_of_numbers, 0, '')\n",
    "# horizontal boxes\n",
    "plt.figure()\n",
    "plt.boxplot(list_of_numbers, 0, 'rs', 0)\n",
    "'''\n",
    "\n",
    "\n",
    "plt.show()"
   ]
  },
  {
   "cell_type": "code",
   "execution_count": null,
   "metadata": {
    "collapsed": true
   },
   "outputs": [],
   "source": []
  }
 ],
 "metadata": {
  "kernelspec": {
   "display_name": "Python 2",
   "language": "python",
   "name": "python2"
  },
  "language_info": {
   "codemirror_mode": {
    "name": "ipython",
    "version": 2
   },
   "file_extension": ".py",
   "mimetype": "text/x-python",
   "name": "python",
   "nbconvert_exporter": "python",
   "pygments_lexer": "ipython2",
   "version": "2.7.13"
  }
 },
 "nbformat": 4,
 "nbformat_minor": 2
}
